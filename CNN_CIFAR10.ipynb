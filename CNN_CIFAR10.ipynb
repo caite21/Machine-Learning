{
  "nbformat": 4,
  "nbformat_minor": 0,
  "metadata": {
    "colab": {
      "provenance": [],
      "toc_visible": true,
      "gpuType": "T4"
    },
    "kernelspec": {
      "name": "python3",
      "display_name": "Python 3"
    },
    "language_info": {
      "name": "python"
    },
    "accelerator": "GPU"
  },
  "cells": [
    {
      "cell_type": "markdown",
      "source": [
        "# Convolutional Neural Network\n",
        "\n",
        "**Description:**\n",
        "- Trains different variations of a CNN  on the CIFAR-10 Dataset which classifies animals and vehicles.\n",
        "- Compares the results to determine the optimal CNN.\n",
        "- Enables users to upload their own images to test with the CNN.\n",
        "\n",
        "**Dataset:**\n",
        "- Found here: https://www.cs.toronto.edu/~kriz/cifar.html\n",
        "- 60,000 32x32 images\n",
        "- 10 classes: airplane, automobile, bird, cat, deer, dog, frog, horse, ship, truck\n",
        "\n",
        "**Data:**\n",
        "\n",
        "| Model | Layers | Training Accuracy | Testing Accuracy |\n",
        "|---    |---     |---                | ---              |\n",
        "| 1 |  3 layers of size 32, 64, 128 with 50% dropout | 0.78 | 0.73 |\n",
        "| 2 |  3 layers of size 32, 64, 128 | 0.89 | 0.71 |\n",
        "| 3 |  3 layers of size 32, 64, 64 | 0.79 | 0.70 |\n",
        "| 4 | 3 layers of size 32, 64, 64 with 1 less pooling | 0.92 | 0.68 |\n",
        "| 5 | 2 layers of size 32, 64  | 0.90 | 0.66 |\n",
        "\n",
        "**Conclusions:**\n",
        "- Greater than 10 epochs does not substantially improve test accuracy\n",
        "- Dropout of 50% improves generalization; test set performs slightly better even though training accuracy is lower\n",
        "- 3 layers and all pooling layers generalizes better\n",
        "- a larger 3rd layer improves accuracy slightly\n",
        "\n",
        "\n",
        "\n"
      ],
      "metadata": {
        "id": "q_xtV22qII10"
      }
    },
    {
      "cell_type": "markdown",
      "source": [
        "## Train"
      ],
      "metadata": {
        "id": "jHr0R8oBNgeZ"
      }
    },
    {
      "cell_type": "code",
      "execution_count": 1,
      "metadata": {
        "id": "bu_FGUNwH5Bx"
      },
      "outputs": [],
      "source": [
        "from tensorflow.keras import datasets\n",
        "from tensorflow.keras.models import Sequential, load_model\n",
        "from tensorflow.keras.layers import Conv2D, MaxPooling2D, Flatten, Dense, Dropout\n",
        "from tensorflow.keras.losses import SparseCategoricalCrossentropy\n",
        "from tensorflow.keras.preprocessing import image\n",
        "\n",
        "import matplotlib.pyplot as plt\n",
        "import matplotlib.cm as cm\n",
        "import numpy as np"
      ]
    },
    {
      "cell_type": "code",
      "source": [
        "# Load numpy arrays\n",
        "(train_images, train_labels), (test_images, test_labels) = datasets.cifar10.load_data()\n",
        "\n",
        "img_width = 32\n",
        "img_height = 32\n",
        "img_color_channels = 3\n",
        "class_names = ['airplane', 'automobile', 'bird', 'cat', 'deer', 'dog', 'frog',\n",
        "               'horse', 'ship', 'truck']\n",
        "\n",
        "# Normalize RGB\n",
        "train_images = train_images / 255.0\n",
        "test_images = test_images / 255.0\n"
      ],
      "metadata": {
        "colab": {
          "base_uri": "https://localhost:8080/"
        },
        "id": "hmNs70BePfqn",
        "outputId": "17152e69-a8f1-40e7-9c15-ded7cb7f29b3"
      },
      "execution_count": 2,
      "outputs": [
        {
          "output_type": "stream",
          "name": "stdout",
          "text": [
            "Downloading data from https://www.cs.toronto.edu/~kriz/cifar-10-python.tar.gz\n",
            "\u001b[1m170498071/170498071\u001b[0m \u001b[32m━━━━━━━━━━━━━━━━━━━━\u001b[0m\u001b[37m\u001b[0m \u001b[1m8s\u001b[0m 0us/step\n"
          ]
        }
      ]
    },
    {
      "cell_type": "code",
      "source": [
        "model_list = []"
      ],
      "metadata": {
        "id": "w3xm28WT4Ptg"
      },
      "execution_count": 3,
      "outputs": []
    },
    {
      "cell_type": "markdown",
      "source": [
        "### Model 1\n",
        "3 layers of size 32, 64, 128 with 50% dropout"
      ],
      "metadata": {
        "id": "xj4y-nR1u1Kw"
      }
    },
    {
      "cell_type": "code",
      "source": [
        "model1 = Sequential([\n",
        "    Conv2D(32, (3, 3), activation='relu', input_shape=(img_width, img_height, img_color_channels)),\n",
        "    MaxPooling2D((2, 2)),\n",
        "    Conv2D(64, (3, 3), activation='relu'),\n",
        "    MaxPooling2D((2, 2)),\n",
        "    Conv2D(128, (3, 3), activation='relu'),\n",
        "    Flatten(),\n",
        "    Dense(128, activation='relu'),\n",
        "    Dropout(0.5),\n",
        "    Dense(10)\n",
        "])\n",
        "\n",
        "model1.compile(optimizer='adam',\n",
        "              loss=SparseCategoricalCrossentropy(from_logits=True),\n",
        "              metrics=['accuracy'])\n",
        "\n",
        "model1.fit(train_images, train_labels, epochs=10)\n",
        "model_list.append(model1)"
      ],
      "metadata": {
        "colab": {
          "base_uri": "https://localhost:8080/"
        },
        "id": "ECEcTvbMPtUe",
        "outputId": "47d51e0c-a700-41e0-a037-7bbaabf8dcbf"
      },
      "execution_count": 4,
      "outputs": [
        {
          "output_type": "stream",
          "name": "stderr",
          "text": [
            "/usr/local/lib/python3.10/dist-packages/keras/src/layers/convolutional/base_conv.py:107: UserWarning: Do not pass an `input_shape`/`input_dim` argument to a layer. When using Sequential models, prefer using an `Input(shape)` object as the first layer in the model instead.\n",
            "  super().__init__(activity_regularizer=activity_regularizer, **kwargs)\n"
          ]
        },
        {
          "output_type": "stream",
          "name": "stdout",
          "text": [
            "Epoch 1/10\n",
            "\u001b[1m1563/1563\u001b[0m \u001b[32m━━━━━━━━━━━━━━━━━━━━\u001b[0m\u001b[37m\u001b[0m \u001b[1m87s\u001b[0m 55ms/step - accuracy: 0.3209 - loss: 1.8212\n",
            "Epoch 2/10\n",
            "\u001b[1m1563/1563\u001b[0m \u001b[32m━━━━━━━━━━━━━━━━━━━━\u001b[0m\u001b[37m\u001b[0m \u001b[1m136s\u001b[0m 51ms/step - accuracy: 0.5462 - loss: 1.2738\n",
            "Epoch 3/10\n",
            "\u001b[1m1563/1563\u001b[0m \u001b[32m━━━━━━━━━━━━━━━━━━━━\u001b[0m\u001b[37m\u001b[0m \u001b[1m87s\u001b[0m 54ms/step - accuracy: 0.6168 - loss: 1.0978\n",
            "Epoch 4/10\n",
            "\u001b[1m1563/1563\u001b[0m \u001b[32m━━━━━━━━━━━━━━━━━━━━\u001b[0m\u001b[37m\u001b[0m \u001b[1m81s\u001b[0m 52ms/step - accuracy: 0.6611 - loss: 0.9749\n",
            "Epoch 5/10\n",
            "\u001b[1m1563/1563\u001b[0m \u001b[32m━━━━━━━━━━━━━━━━━━━━\u001b[0m\u001b[37m\u001b[0m \u001b[1m79s\u001b[0m 50ms/step - accuracy: 0.6895 - loss: 0.9019\n",
            "Epoch 6/10\n",
            "\u001b[1m1563/1563\u001b[0m \u001b[32m━━━━━━━━━━━━━━━━━━━━\u001b[0m\u001b[37m\u001b[0m \u001b[1m81s\u001b[0m 50ms/step - accuracy: 0.7117 - loss: 0.8272\n",
            "Epoch 7/10\n",
            "\u001b[1m1563/1563\u001b[0m \u001b[32m━━━━━━━━━━━━━━━━━━━━\u001b[0m\u001b[37m\u001b[0m \u001b[1m83s\u001b[0m 51ms/step - accuracy: 0.7320 - loss: 0.7735\n",
            "Epoch 8/10\n",
            "\u001b[1m1563/1563\u001b[0m \u001b[32m━━━━━━━━━━━━━━━━━━━━\u001b[0m\u001b[37m\u001b[0m \u001b[1m81s\u001b[0m 50ms/step - accuracy: 0.7462 - loss: 0.7164\n",
            "Epoch 9/10\n",
            "\u001b[1m1563/1563\u001b[0m \u001b[32m━━━━━━━━━━━━━━━━━━━━\u001b[0m\u001b[37m\u001b[0m \u001b[1m82s\u001b[0m 50ms/step - accuracy: 0.7593 - loss: 0.6846\n",
            "Epoch 10/10\n",
            "\u001b[1m1563/1563\u001b[0m \u001b[32m━━━━━━━━━━━━━━━━━━━━\u001b[0m\u001b[37m\u001b[0m \u001b[1m85s\u001b[0m 52ms/step - accuracy: 0.7757 - loss: 0.6389\n"
          ]
        }
      ]
    },
    {
      "cell_type": "markdown",
      "source": [
        "### Model 2\n",
        "3 layers of size 32, 64, 128"
      ],
      "metadata": {
        "id": "ys2AyMkKu3RX"
      }
    },
    {
      "cell_type": "code",
      "source": [
        "model2 = Sequential([\n",
        "    Conv2D(32, (3, 3), activation='relu', input_shape=(img_width, img_height, img_color_channels)),\n",
        "    MaxPooling2D((2, 2)),\n",
        "    Conv2D(64, (3, 3), activation='relu'),\n",
        "    MaxPooling2D((2, 2)),\n",
        "    Conv2D(128, (3, 3), activation='relu'),\n",
        "    Flatten(),\n",
        "    Dense(128, activation='relu'),\n",
        "    Dense(10)\n",
        "])\n",
        "\n",
        "model2.compile(optimizer='adam',\n",
        "              loss=SparseCategoricalCrossentropy(from_logits=True),\n",
        "              metrics=['accuracy'])\n",
        "\n",
        "model2.fit(train_images, train_labels, epochs=10, validation_data=(test_images, test_labels))\n",
        "model_list.append(model2)"
      ],
      "metadata": {
        "colab": {
          "base_uri": "https://localhost:8080/"
        },
        "id": "rjWiZ93ik8ln",
        "outputId": "7a937593-e3f2-4bed-b1bb-a7c5ac4a0c5c"
      },
      "execution_count": 5,
      "outputs": [
        {
          "output_type": "stream",
          "name": "stdout",
          "text": [
            "Epoch 1/10\n",
            "\u001b[1m1563/1563\u001b[0m \u001b[32m━━━━━━━━━━━━━━━━━━━━\u001b[0m\u001b[37m\u001b[0m \u001b[1m9s\u001b[0m 5ms/step - accuracy: 0.3750 - loss: 1.6897 - val_accuracy: 0.5809 - val_loss: 1.1706\n",
            "Epoch 2/10\n",
            "\u001b[1m1563/1563\u001b[0m \u001b[32m━━━━━━━━━━━━━━━━━━━━\u001b[0m\u001b[37m\u001b[0m \u001b[1m6s\u001b[0m 3ms/step - accuracy: 0.6158 - loss: 1.0858 - val_accuracy: 0.6626 - val_loss: 0.9663\n",
            "Epoch 3/10\n",
            "\u001b[1m1563/1563\u001b[0m \u001b[32m━━━━━━━━━━━━━━━━━━━━\u001b[0m\u001b[37m\u001b[0m \u001b[1m5s\u001b[0m 3ms/step - accuracy: 0.6871 - loss: 0.8899 - val_accuracy: 0.6842 - val_loss: 0.9312\n",
            "Epoch 4/10\n",
            "\u001b[1m1563/1563\u001b[0m \u001b[32m━━━━━━━━━━━━━━━━━━━━\u001b[0m\u001b[37m\u001b[0m \u001b[1m6s\u001b[0m 3ms/step - accuracy: 0.7346 - loss: 0.7563 - val_accuracy: 0.6823 - val_loss: 0.9341\n",
            "Epoch 5/10\n",
            "\u001b[1m1563/1563\u001b[0m \u001b[32m━━━━━━━━━━━━━━━━━━━━\u001b[0m\u001b[37m\u001b[0m \u001b[1m10s\u001b[0m 3ms/step - accuracy: 0.7684 - loss: 0.6713 - val_accuracy: 0.6871 - val_loss: 0.9034\n",
            "Epoch 6/10\n",
            "\u001b[1m1563/1563\u001b[0m \u001b[32m━━━━━━━━━━━━━━━━━━━━\u001b[0m\u001b[37m\u001b[0m \u001b[1m9s\u001b[0m 3ms/step - accuracy: 0.7978 - loss: 0.5819 - val_accuracy: 0.7234 - val_loss: 0.8397\n",
            "Epoch 7/10\n",
            "\u001b[1m1563/1563\u001b[0m \u001b[32m━━━━━━━━━━━━━━━━━━━━\u001b[0m\u001b[37m\u001b[0m \u001b[1m7s\u001b[0m 4ms/step - accuracy: 0.8203 - loss: 0.5091 - val_accuracy: 0.7258 - val_loss: 0.8645\n",
            "Epoch 8/10\n",
            "\u001b[1m1563/1563\u001b[0m \u001b[32m━━━━━━━━━━━━━━━━━━━━\u001b[0m\u001b[37m\u001b[0m \u001b[1m9s\u001b[0m 3ms/step - accuracy: 0.8433 - loss: 0.4401 - val_accuracy: 0.7284 - val_loss: 0.8744\n",
            "Epoch 9/10\n",
            "\u001b[1m1563/1563\u001b[0m \u001b[32m━━━━━━━━━━━━━━━━━━━━\u001b[0m\u001b[37m\u001b[0m \u001b[1m5s\u001b[0m 3ms/step - accuracy: 0.8654 - loss: 0.3802 - val_accuracy: 0.7230 - val_loss: 0.9450\n",
            "Epoch 10/10\n",
            "\u001b[1m1563/1563\u001b[0m \u001b[32m━━━━━━━━━━━━━━━━━━━━\u001b[0m\u001b[37m\u001b[0m \u001b[1m5s\u001b[0m 3ms/step - accuracy: 0.8909 - loss: 0.3065 - val_accuracy: 0.7150 - val_loss: 1.0333\n"
          ]
        }
      ]
    },
    {
      "cell_type": "markdown",
      "source": [
        "### Model 3\n",
        "3 layers of size 32, 64, 64"
      ],
      "metadata": {
        "id": "3rICdEbbu4dY"
      }
    },
    {
      "cell_type": "code",
      "source": [
        "model3 = Sequential([\n",
        "    Conv2D(32, (3, 3), activation='relu', input_shape=(img_width, img_height, img_color_channels)),\n",
        "    MaxPooling2D((2, 2)),\n",
        "    Conv2D(64, (3, 3), activation='relu'),\n",
        "    MaxPooling2D((2, 2)),\n",
        "    Conv2D(64, (3, 3), activation='relu'),\n",
        "    Flatten(),\n",
        "    Dense(64, activation='relu'),\n",
        "    Dense(10)\n",
        "])\n",
        "\n",
        "model3.compile(optimizer='adam',\n",
        "              loss=SparseCategoricalCrossentropy(from_logits=True),\n",
        "              metrics=['accuracy'])\n",
        "\n",
        "model3.fit(train_images, train_labels, epochs=10, validation_data=(test_images, test_labels))\n",
        "model_list.append(model3)"
      ],
      "metadata": {
        "colab": {
          "base_uri": "https://localhost:8080/"
        },
        "id": "oHKlWrack_uR",
        "outputId": "c5a284c4-b6c4-4e1a-b163-6c2e94482809"
      },
      "execution_count": 6,
      "outputs": [
        {
          "output_type": "stream",
          "name": "stdout",
          "text": [
            "Epoch 1/10\n",
            "\u001b[1m1563/1563\u001b[0m \u001b[32m━━━━━━━━━━━━━━━━━━━━\u001b[0m\u001b[37m\u001b[0m \u001b[1m9s\u001b[0m 4ms/step - accuracy: 0.3414 - loss: 1.7784 - val_accuracy: 0.5206 - val_loss: 1.3050\n",
            "Epoch 2/10\n",
            "\u001b[1m1563/1563\u001b[0m \u001b[32m━━━━━━━━━━━━━━━━━━━━\u001b[0m\u001b[37m\u001b[0m \u001b[1m7s\u001b[0m 3ms/step - accuracy: 0.5657 - loss: 1.2223 - val_accuracy: 0.5993 - val_loss: 1.1566\n",
            "Epoch 3/10\n",
            "\u001b[1m1563/1563\u001b[0m \u001b[32m━━━━━━━━━━━━━━━━━━━━\u001b[0m\u001b[37m\u001b[0m \u001b[1m4s\u001b[0m 3ms/step - accuracy: 0.6293 - loss: 1.0518 - val_accuracy: 0.6215 - val_loss: 1.0677\n",
            "Epoch 4/10\n",
            "\u001b[1m1563/1563\u001b[0m \u001b[32m━━━━━━━━━━━━━━━━━━━━\u001b[0m\u001b[37m\u001b[0m \u001b[1m5s\u001b[0m 3ms/step - accuracy: 0.6683 - loss: 0.9387 - val_accuracy: 0.6688 - val_loss: 0.9521\n",
            "Epoch 5/10\n",
            "\u001b[1m1563/1563\u001b[0m \u001b[32m━━━━━━━━━━━━━━━━━━━━\u001b[0m\u001b[37m\u001b[0m \u001b[1m4s\u001b[0m 3ms/step - accuracy: 0.7064 - loss: 0.8433 - val_accuracy: 0.6839 - val_loss: 0.8999\n",
            "Epoch 6/10\n",
            "\u001b[1m1563/1563\u001b[0m \u001b[32m━━━━━━━━━━━━━━━━━━━━\u001b[0m\u001b[37m\u001b[0m \u001b[1m6s\u001b[0m 3ms/step - accuracy: 0.7285 - loss: 0.7836 - val_accuracy: 0.6983 - val_loss: 0.8818\n",
            "Epoch 7/10\n",
            "\u001b[1m1563/1563\u001b[0m \u001b[32m━━━━━━━━━━━━━━━━━━━━\u001b[0m\u001b[37m\u001b[0m \u001b[1m5s\u001b[0m 3ms/step - accuracy: 0.7482 - loss: 0.7266 - val_accuracy: 0.7031 - val_loss: 0.8510\n",
            "Epoch 8/10\n",
            "\u001b[1m1563/1563\u001b[0m \u001b[32m━━━━━━━━━━━━━━━━━━━━\u001b[0m\u001b[37m\u001b[0m \u001b[1m5s\u001b[0m 3ms/step - accuracy: 0.7634 - loss: 0.6784 - val_accuracy: 0.7010 - val_loss: 0.8770\n",
            "Epoch 9/10\n",
            "\u001b[1m1563/1563\u001b[0m \u001b[32m━━━━━━━━━━━━━━━━━━━━\u001b[0m\u001b[37m\u001b[0m \u001b[1m5s\u001b[0m 3ms/step - accuracy: 0.7778 - loss: 0.6353 - val_accuracy: 0.7108 - val_loss: 0.8773\n",
            "Epoch 10/10\n",
            "\u001b[1m1563/1563\u001b[0m \u001b[32m━━━━━━━━━━━━━━━━━━━━\u001b[0m\u001b[37m\u001b[0m \u001b[1m11s\u001b[0m 4ms/step - accuracy: 0.7896 - loss: 0.5997 - val_accuracy: 0.6982 - val_loss: 0.9202\n"
          ]
        }
      ]
    },
    {
      "cell_type": "markdown",
      "source": [
        "### Model 4\n",
        "3 layers of size 32, 32, 64 with 1 less pooling layer"
      ],
      "metadata": {
        "id": "Sj3RPhVk1bXT"
      }
    },
    {
      "cell_type": "code",
      "source": [
        "model4 = Sequential([\n",
        "    Conv2D(32, (3, 3), activation='relu', input_shape=(img_width, img_height, img_color_channels)),\n",
        "    Conv2D(32, (3, 3), activation='relu'),\n",
        "    MaxPooling2D((2, 2)),\n",
        "    Conv2D(64, (3, 3), activation='relu'),\n",
        "    Flatten(),\n",
        "    Dense(64, activation='relu'),\n",
        "    Dense(10)\n",
        "])\n",
        "\n",
        "model4.compile(optimizer='adam',\n",
        "              loss=SparseCategoricalCrossentropy(from_logits=True),\n",
        "              metrics=['accuracy'])\n",
        "\n",
        "model4.fit(train_images, train_labels, epochs=10, validation_data=(test_images, test_labels))\n",
        "model_list.append(model4)"
      ],
      "metadata": {
        "colab": {
          "base_uri": "https://localhost:8080/"
        },
        "id": "BDkr7dSI1dGG",
        "outputId": "de21e5e1-fd19-44f1-b9b8-95e029bd6a70"
      },
      "execution_count": 7,
      "outputs": [
        {
          "output_type": "stream",
          "name": "stdout",
          "text": [
            "Epoch 1/10\n",
            "\u001b[1m1563/1563\u001b[0m \u001b[32m━━━━━━━━━━━━━━━━━━━━\u001b[0m\u001b[37m\u001b[0m \u001b[1m11s\u001b[0m 5ms/step - accuracy: 0.3955 - loss: 1.6506 - val_accuracy: 0.6185 - val_loss: 1.0801\n",
            "Epoch 2/10\n",
            "\u001b[1m1563/1563\u001b[0m \u001b[32m━━━━━━━━━━━━━━━━━━━━\u001b[0m\u001b[37m\u001b[0m \u001b[1m5s\u001b[0m 3ms/step - accuracy: 0.6417 - loss: 1.0204 - val_accuracy: 0.6674 - val_loss: 0.9489\n",
            "Epoch 3/10\n",
            "\u001b[1m1563/1563\u001b[0m \u001b[32m━━━━━━━━━━━━━━━━━━━━\u001b[0m\u001b[37m\u001b[0m \u001b[1m5s\u001b[0m 3ms/step - accuracy: 0.7160 - loss: 0.8197 - val_accuracy: 0.6931 - val_loss: 0.8685\n",
            "Epoch 4/10\n",
            "\u001b[1m1563/1563\u001b[0m \u001b[32m━━━━━━━━━━━━━━━━━━━━\u001b[0m\u001b[37m\u001b[0m \u001b[1m5s\u001b[0m 3ms/step - accuracy: 0.7598 - loss: 0.6938 - val_accuracy: 0.6918 - val_loss: 0.9249\n",
            "Epoch 5/10\n",
            "\u001b[1m1563/1563\u001b[0m \u001b[32m━━━━━━━━━━━━━━━━━━━━\u001b[0m\u001b[37m\u001b[0m \u001b[1m11s\u001b[0m 4ms/step - accuracy: 0.7885 - loss: 0.5969 - val_accuracy: 0.7095 - val_loss: 0.8587\n",
            "Epoch 6/10\n",
            "\u001b[1m1563/1563\u001b[0m \u001b[32m━━━━━━━━━━━━━━━━━━━━\u001b[0m\u001b[37m\u001b[0m \u001b[1m5s\u001b[0m 3ms/step - accuracy: 0.8202 - loss: 0.5132 - val_accuracy: 0.7072 - val_loss: 0.8909\n",
            "Epoch 7/10\n",
            "\u001b[1m1563/1563\u001b[0m \u001b[32m━━━━━━━━━━━━━━━━━━━━\u001b[0m\u001b[37m\u001b[0m \u001b[1m5s\u001b[0m 3ms/step - accuracy: 0.8483 - loss: 0.4284 - val_accuracy: 0.7106 - val_loss: 0.9392\n",
            "Epoch 8/10\n",
            "\u001b[1m1563/1563\u001b[0m \u001b[32m━━━━━━━━━━━━━━━━━━━━\u001b[0m\u001b[37m\u001b[0m \u001b[1m5s\u001b[0m 3ms/step - accuracy: 0.8783 - loss: 0.3520 - val_accuracy: 0.6922 - val_loss: 1.0310\n",
            "Epoch 9/10\n",
            "\u001b[1m1563/1563\u001b[0m \u001b[32m━━━━━━━━━━━━━━━━━━━━\u001b[0m\u001b[37m\u001b[0m \u001b[1m10s\u001b[0m 4ms/step - accuracy: 0.8951 - loss: 0.2966 - val_accuracy: 0.7058 - val_loss: 1.0978\n",
            "Epoch 10/10\n",
            "\u001b[1m1563/1563\u001b[0m \u001b[32m━━━━━━━━━━━━━━━━━━━━\u001b[0m\u001b[37m\u001b[0m \u001b[1m10s\u001b[0m 4ms/step - accuracy: 0.9161 - loss: 0.2365 - val_accuracy: 0.6859 - val_loss: 1.2757\n"
          ]
        }
      ]
    },
    {
      "cell_type": "markdown",
      "source": [
        "### Model 5\n",
        "2 layers of size 32, 64"
      ],
      "metadata": {
        "id": "fAu5vhpqTDwy"
      }
    },
    {
      "cell_type": "code",
      "source": [
        "model6 = Sequential([\n",
        "    Conv2D(32, (3, 3), activation='relu', input_shape=(img_width, img_height, img_color_channels)),\n",
        "    MaxPooling2D((2, 2)),\n",
        "    Conv2D(64, (3, 3), activation='relu'),\n",
        "    Flatten(),\n",
        "    Dense(64, activation='relu'),\n",
        "    Dense(10)\n",
        "])\n",
        "\n",
        "model6.compile(optimizer='adam',\n",
        "              loss=SparseCategoricalCrossentropy(from_logits=True),\n",
        "              metrics=['accuracy'])\n",
        "\n",
        "model6.fit(train_images, train_labels, epochs=10, validation_data=(test_images, test_labels))\n",
        "model_list.append(model6)"
      ],
      "metadata": {
        "id": "DbYcw1FdTDig",
        "colab": {
          "base_uri": "https://localhost:8080/"
        },
        "outputId": "000d1702-bbf2-4195-bd58-8b76fe2976cd"
      },
      "execution_count": 9,
      "outputs": [
        {
          "output_type": "stream",
          "name": "stdout",
          "text": [
            "Epoch 1/10\n",
            "\u001b[1m1563/1563\u001b[0m \u001b[32m━━━━━━━━━━━━━━━━━━━━\u001b[0m\u001b[37m\u001b[0m \u001b[1m9s\u001b[0m 4ms/step - accuracy: 0.4016 - loss: 1.6496 - val_accuracy: 0.5950 - val_loss: 1.1496\n",
            "Epoch 2/10\n",
            "\u001b[1m1563/1563\u001b[0m \u001b[32m━━━━━━━━━━━━━━━━━━━━\u001b[0m\u001b[37m\u001b[0m \u001b[1m8s\u001b[0m 4ms/step - accuracy: 0.6282 - loss: 1.0675 - val_accuracy: 0.6535 - val_loss: 1.0004\n",
            "Epoch 3/10\n",
            "\u001b[1m1563/1563\u001b[0m \u001b[32m━━━━━━━━━━━━━━━━━━━━\u001b[0m\u001b[37m\u001b[0m \u001b[1m4s\u001b[0m 3ms/step - accuracy: 0.6876 - loss: 0.9016 - val_accuracy: 0.6693 - val_loss: 0.9664\n",
            "Epoch 4/10\n",
            "\u001b[1m1563/1563\u001b[0m \u001b[32m━━━━━━━━━━━━━━━━━━━━\u001b[0m\u001b[37m\u001b[0m \u001b[1m5s\u001b[0m 3ms/step - accuracy: 0.7302 - loss: 0.7782 - val_accuracy: 0.6712 - val_loss: 0.9784\n",
            "Epoch 5/10\n",
            "\u001b[1m1563/1563\u001b[0m \u001b[32m━━━━━━━━━━━━━━━━━━━━\u001b[0m\u001b[37m\u001b[0m \u001b[1m5s\u001b[0m 3ms/step - accuracy: 0.7531 - loss: 0.6998 - val_accuracy: 0.6621 - val_loss: 1.0118\n",
            "Epoch 6/10\n",
            "\u001b[1m1563/1563\u001b[0m \u001b[32m━━━━━━━━━━━━━━━━━━━━\u001b[0m\u001b[37m\u001b[0m \u001b[1m4s\u001b[0m 3ms/step - accuracy: 0.7922 - loss: 0.6007 - val_accuracy: 0.6746 - val_loss: 1.0106\n",
            "Epoch 7/10\n",
            "\u001b[1m1563/1563\u001b[0m \u001b[32m━━━━━━━━━━━━━━━━━━━━\u001b[0m\u001b[37m\u001b[0m \u001b[1m5s\u001b[0m 3ms/step - accuracy: 0.8201 - loss: 0.5129 - val_accuracy: 0.6772 - val_loss: 1.0527\n",
            "Epoch 8/10\n",
            "\u001b[1m1563/1563\u001b[0m \u001b[32m━━━━━━━━━━━━━━━━━━━━\u001b[0m\u001b[37m\u001b[0m \u001b[1m5s\u001b[0m 3ms/step - accuracy: 0.8511 - loss: 0.4270 - val_accuracy: 0.6464 - val_loss: 1.2122\n",
            "Epoch 9/10\n",
            "\u001b[1m1563/1563\u001b[0m \u001b[32m━━━━━━━━━━━━━━━━━━━━\u001b[0m\u001b[37m\u001b[0m \u001b[1m5s\u001b[0m 3ms/step - accuracy: 0.8735 - loss: 0.3638 - val_accuracy: 0.6586 - val_loss: 1.2181\n",
            "Epoch 10/10\n",
            "\u001b[1m1563/1563\u001b[0m \u001b[32m━━━━━━━━━━━━━━━━━━━━\u001b[0m\u001b[37m\u001b[0m \u001b[1m6s\u001b[0m 3ms/step - accuracy: 0.8972 - loss: 0.2991 - val_accuracy: 0.6582 - val_loss: 1.3512\n"
          ]
        }
      ]
    },
    {
      "cell_type": "markdown",
      "source": [
        "## Test & Compare"
      ],
      "metadata": {
        "id": "JgefWfmfNh8M"
      }
    },
    {
      "cell_type": "code",
      "source": [
        "from sklearn.metrics import f1_score\n",
        "\n",
        "for i in range(len(model_list)):\n",
        "  print(f\"Model {i+1}:\")\n",
        "  model_list[i].evaluate(test_images, test_labels)"
      ],
      "metadata": {
        "colab": {
          "base_uri": "https://localhost:8080/"
        },
        "id": "QAJA0V_ZBz3t",
        "outputId": "d929edd3-7518-4e69-abe9-01e6e4be48c4"
      },
      "execution_count": 10,
      "outputs": [
        {
          "output_type": "stream",
          "name": "stdout",
          "text": [
            "Model 1:\n",
            "\u001b[1m313/313\u001b[0m \u001b[32m━━━━━━━━━━━━━━━━━━━━\u001b[0m\u001b[37m\u001b[0m \u001b[1m1s\u001b[0m 3ms/step - accuracy: 0.7349 - loss: 0.8042\n",
            "Model 2:\n",
            "\u001b[1m313/313\u001b[0m \u001b[32m━━━━━━━━━━━━━━━━━━━━\u001b[0m\u001b[37m\u001b[0m \u001b[1m1s\u001b[0m 2ms/step - accuracy: 0.7146 - loss: 1.0270\n",
            "Model 3:\n",
            "\u001b[1m313/313\u001b[0m \u001b[32m━━━━━━━━━━━━━━━━━━━━\u001b[0m\u001b[37m\u001b[0m \u001b[1m1s\u001b[0m 2ms/step - accuracy: 0.6996 - loss: 0.9054\n",
            "Model 4:\n",
            "\u001b[1m313/313\u001b[0m \u001b[32m━━━━━━━━━━━━━━━━━━━━\u001b[0m\u001b[37m\u001b[0m \u001b[1m1s\u001b[0m 2ms/step - accuracy: 0.6811 - loss: 1.2806\n",
            "Model 5:\n",
            "\u001b[1m313/313\u001b[0m \u001b[32m━━━━━━━━━━━━━━━━━━━━\u001b[0m\u001b[37m\u001b[0m \u001b[1m1s\u001b[0m 2ms/step - accuracy: 0.6314 - loss: 1.0750\n",
            "Model 6:\n",
            "\u001b[1m313/313\u001b[0m \u001b[32m━━━━━━━━━━━━━━━━━━━━\u001b[0m\u001b[37m\u001b[0m \u001b[1m1s\u001b[0m 2ms/step - accuracy: 0.6612 - loss: 1.3511\n"
          ]
        }
      ]
    },
    {
      "cell_type": "markdown",
      "source": [
        "### Save Model"
      ],
      "metadata": {
        "id": "GgIfUlT6onyz"
      }
    },
    {
      "cell_type": "code",
      "source": [
        "best_model = model1\n",
        "best_model.save(\"CIFAR_CNN.keras\")"
      ],
      "metadata": {
        "id": "WJCWOu3jongR"
      },
      "execution_count": 5,
      "outputs": []
    },
    {
      "cell_type": "markdown",
      "source": [
        "## Try Your Own Images"
      ],
      "metadata": {
        "id": "VpE3Ttg8Ni0v"
      }
    },
    {
      "cell_type": "code",
      "source": [
        "def preprocess(img_path):\n",
        "  \"\"\" Returns normalized and reshaped image array. \"\"\"\n",
        "\n",
        "  img = image.load_img(img_path, target_size=(32, 32))\n",
        "  img_arr = image.img_to_array(img)\n",
        "  img_arr /= 255.0  # Normalize RGB\n",
        "  img_arr_exp = np.expand_dims(img_arr, axis=0)  # 4D shape for prediction\n",
        "  return img_arr, img_arr_exp\n",
        "\n",
        "def predict(img_path, model, plot=True):\n",
        "  \"\"\" Predict class of image using model. Output is the image and a bar\n",
        "  plot of the prediction values of the image. If plot is false, output\n",
        "  is printed instead of plotted.\"\"\"\n",
        "\n",
        "  img_arr, img_arr_exp = preprocess(img_path)\n",
        "  predictions = model.predict(img_arr_exp)\n",
        "  final_prediction = np.argmax(predictions, axis=1)[0]\n",
        "\n",
        "  if plot:\n",
        "    plt.subplot(1, 2, 1)\n",
        "    plt.imshow(img_arr)\n",
        "    plt.title(f\"Prediction: {class_names[final_prediction]}\")\n",
        "\n",
        "    plt.subplot(1, 2, 2)\n",
        "    colors = cm.plasma(predictions[0] / np.max(predictions[0]))\n",
        "    plt.bar(class_names, predictions[0], color=colors)\n",
        "    plt.title(\"Prediction Values\")\n",
        "    plt.xticks(rotation=90)\n",
        "\n",
        "    plt.show()\n",
        "  else:\n",
        "    print(f\"Predicted class: {class_names[final_prediction]}\")\n",
        "    print(\"Prediction Values:\")\n",
        "    for i in range(len(predictions[0])):\n",
        "      print(f\"\\t{class_names[i]}: \\t{predictions[0][i]}\")\n"
      ],
      "metadata": {
        "id": "XQsrCOzINjT3"
      },
      "execution_count": 6,
      "outputs": []
    },
    {
      "cell_type": "markdown",
      "source": [
        "### Predict Image"
      ],
      "metadata": {
        "id": "3_IqHvOdy_4_"
      }
    },
    {
      "cell_type": "code",
      "source": [
        "myModel = load_model(\"CIFAR_CNN.keras\")\n",
        "\n",
        "# Example below: horse is incorrectly predicted but is very close, and car is correct\n",
        "predict(img_path=\"horse32.jpg\", model=myModel, plot=True)\n",
        "predict(img_path=\"car32.jpg\", model=myModel, plot=True)\n",
        "\n",
        "# for i in range(len(model_list)):\n",
        "#   print(f\"Model {i+1}:\")\n",
        "#   predict(img_path=\"horse32.jpg\", model=model_list[i], plot=True)\n",
        "#   predict(img_path=\"car32.jpg\", model=model_list[i], plot=False)\n"
      ],
      "metadata": {
        "colab": {
          "base_uri": "https://localhost:8080/",
          "height": 1000
        },
        "id": "dXdDfid0g7cV",
        "outputId": "da39e048-5bdd-482b-ec7b-2c1e62ae612d"
      },
      "execution_count": 7,
      "outputs": [
        {
          "output_type": "stream",
          "name": "stdout",
          "text": [
            "\u001b[1m1/1\u001b[0m \u001b[32m━━━━━━━━━━━━━━━━━━━━\u001b[0m\u001b[37m\u001b[0m \u001b[1m0s\u001b[0m 126ms/step\n"
          ]
        },
        {
          "output_type": "display_data",
          "data": {
            "text/plain": [
              "<Figure size 640x480 with 2 Axes>"
            ],
            "image/png": "[encoded data removed]"
          },
          "metadata": {}
        },
        {
          "output_type": "stream",
          "name": "stdout",
          "text": [
            "\u001b[1m1/1\u001b[0m \u001b[32m━━━━━━━━━━━━━━━━━━━━\u001b[0m\u001b[37m\u001b[0m \u001b[1m0s\u001b[0m 22ms/step\n"
          ]
        },
        {
          "output_type": "display_data",
          "data": {
            "text/plain": [
              "<Figure size 640x480 with 2 Axes>"
            ],
            "image/png": "[encoded data removed]"
          },
          "metadata": {}
        }
      ]
    }
  ]
}